{
 "cells": [
  {
   "cell_type": "code",
   "execution_count": 34,
   "metadata": {},
   "outputs": [],
   "source": [
    "import pandas as pd\n",
    "import numpy as np\n",
    "import matplotlib.pyplot as plt\n",
    "import seaborn as sns\n",
    "import torch\n",
    "import torch.nn as nn\n",
    "import torchtext.vocab as vocab\n",
    "from torch.utils.data import DataLoader, Dataset\n",
    "\n",
    "df = pd.read_csv('dataset.csv')\n",
    "# bỏ cột app_id và app_name\n",
    "df = df.drop(['app_id', 'app_name'], axis=1)\n",
    "# bỏ các dòng mà có review_text là NaN\n",
    "df = df.dropna(subset=['review_text'])"
   ]
  },
  {
   "cell_type": "code",
   "execution_count": 35,
   "metadata": {},
   "outputs": [
    {
     "data": {
      "text/plain": [
       "<torch._C.Generator at 0x1d34fbfb250>"
      ]
     },
     "execution_count": 35,
     "metadata": {},
     "output_type": "execute_result"
    }
   ],
   "source": [
    "device = torch.device('cuda' if torch.cuda.is_available() else 'cpu')\n",
    "SEED = 42\n",
    "torch.manual_seed(SEED)"
   ]
  },
  {
   "cell_type": "code",
   "execution_count": 36,
   "metadata": {},
   "outputs": [],
   "source": [
    "np.random.seed(42)\n",
    "sample_id = np.random.choice(df.index, 300000, replace=False) # lấy ngẫu nhiên 300000 dòng, replace=False để không lấy trùng\n",
    "data = df.copy()\n",
    "data = data.loc[sample_id, ['review_text', 'review_score']] # lấy 300000 dòng của 2 cột review_text và review_score\n",
    "data = data[data['review_text'].str.contains('Early Access Review') == False] "
   ]
  },
  {
   "cell_type": "code",
   "execution_count": 37,
   "metadata": {},
   "outputs": [
    {
     "data": {
      "text/plain": [
       "((201878, 2), (25235, 2), (25235, 2))"
      ]
     },
     "execution_count": 37,
     "metadata": {},
     "output_type": "execute_result"
    }
   ],
   "source": [
    "from sklearn.model_selection import train_test_split\n",
    "\n",
    "train_data, validate_data = train_test_split(data, test_size=0.2)\n",
    "validate_data, test_data = train_test_split(validate_data, test_size=0.5)\n",
    "train_data.shape, test_data.shape, validate_data.shape"
   ]
  },
  {
   "cell_type": "code",
   "execution_count": 38,
   "metadata": {},
   "outputs": [
    {
     "name": "stdout",
     "output_type": "stream",
     "text": [
      "So luong cac token: 180815\n"
     ]
    }
   ],
   "source": [
    "from collections import Counter\n",
    "from utils import *\n",
    "\n",
    "tokens_count = Counter()\n",
    "for line in data.review_text:\n",
    "    tokens_count.update(tokenizer(preprocess_review(line)))\n",
    "print(f'So luong cac token: {len(tokens_count)}')"
   ]
  },
  {
   "cell_type": "code",
   "execution_count": 39,
   "metadata": {},
   "outputs": [
    {
     "name": "stdout",
     "output_type": "stream",
     "text": [
      "Vocabulary size: 180817\n",
      "[33, 295, 777, 8, 20, 480]\n"
     ]
    }
   ],
   "source": [
    "from collections import OrderedDict\n",
    "from torchtext.vocab import vocab\n",
    "\n",
    "sorted_by_freq_tuples = sorted(tokens_count.items(), \n",
    "                               key=lambda x: x[1], \n",
    "                               reverse=True)\n",
    "ordered_dict = OrderedDict(sorted_by_freq_tuples)\n",
    "vocab_review = vocab(ordered_dict) # \n",
    "# padding\n",
    "vocab_review.insert_token('<pad>', 0)\n",
    "# unknown\n",
    "vocab_review.insert_token('<unk>', 1)\n",
    "vocab_review.set_default_index(1)\n",
    "print(f'Vocabulary size: {len(vocab_review)}')\n",
    "print([vocab_review[token] for token in \n",
    "      ['my','whole','live','i','have','tried']])"
   ]
  },
  {
   "cell_type": "code",
   "execution_count": 40,
   "metadata": {},
   "outputs": [
    {
     "name": "stdout",
     "output_type": "stream",
     "text": [
      "text batch: tensor([[   1,   33,  224,  ...,    0,    0,    0],\n",
      "        [   1,   32,   26,  ...,  824,  129,    1],\n",
      "        [   1,    7, 2149,  ...,    0,    0,    0],\n",
      "        [   1,    1,   10,  ...,    0,    0,    0]])\n",
      "label batch: tensor([1., 1., 1., 1.])\n",
      "length batch: tensor([  4, 510,   6,  55])\n",
      "text batch shape: torch.Size([4, 510])\n"
     ]
    }
   ],
   "source": [
    "text_pipeline = lambda x: [vocab_review[token] for token in tokenizer(x)]\n",
    "label_pipeline = lambda x: 1. if x == 1 else 0.  # we need float labels for BCEWithLogitsLoss\n",
    "\n",
    "def collate_batch(batch):\n",
    "    label_list, text_list, lengths = [], [], []\n",
    "    for _label, _text in batch:\n",
    "        if not isinstance(_text, str):\n",
    "            continue\n",
    "        processed_text = torch.tensor(text_pipeline(_text),\n",
    "                                      dtype=torch.int64)\n",
    "        if processed_text.size(0) > 0:\n",
    "            label_list.append(label_pipeline(_label))\n",
    "            text_list.append(processed_text)\n",
    "            lengths.append(processed_text.size(0))\n",
    "    label_list = torch.tensor(label_list)\n",
    "    lengths = torch.tensor(lengths)\n",
    "    padded_text_list = nn.utils.rnn.pad_sequence(\n",
    "        text_list, batch_first=True)\n",
    "    return padded_text_list, label_list, lengths\n",
    "\n",
    "# check a small batch\n",
    "tmp = DataLoader(list(zip(df.review_score, df.review_text)), batch_size=4, shuffle = False, collate_fn = collate_batch)\n",
    "text_batch, label_batch, length_batch = next(iter(tmp))\n",
    "print('text batch:', text_batch)\n",
    "print('label batch:', label_batch)\n",
    "print('length batch:', length_batch)\n",
    "print('text batch shape:', text_batch.shape)"
   ]
  },
  {
   "cell_type": "code",
   "execution_count": 41,
   "metadata": {},
   "outputs": [],
   "source": [
    "batch_size = 32\n",
    "train_dl = DataLoader(list(zip(train_data.review_score, train_data.review_text)), batch_size=batch_size,\n",
    "                      shuffle=True, collate_fn=collate_batch) # \n",
    "valid_dl = DataLoader(list(zip(validate_data.review_score, validate_data.review_text)), batch_size=batch_size,\n",
    "                      shuffle=False, collate_fn=collate_batch)\n",
    "test_dl = DataLoader(list(zip(test_data.review_score, test_data.review_text)), batch_size=batch_size,\n",
    "                      shuffle=False, collate_fn=collate_batch)"
   ]
  },
  {
   "cell_type": "code",
   "execution_count": 42,
   "metadata": {},
   "outputs": [],
   "source": [
    "class RNN(nn.Module):\n",
    "    def __init__(self, vocab_size, embed_dim, rnn_hidden_size, fc_hidden_size):\n",
    "        super().__init__()\n",
    "        # sentence embedding\n",
    "        self.embedding = nn.Embedding(num_embeddings = vocab_size, \n",
    "                                      embedding_dim = embed_dim, \n",
    "                                      padding_idx = 0)\n",
    "        # RNN layer\n",
    "        # input dimensions are: (batch, seq, feature) \n",
    "        self.rnn = nn.RNN(input_size = embed_dim, \n",
    "                           hidden_size = rnn_hidden_size, \n",
    "                           batch_first = True)\n",
    "        self.fc1 = nn.Linear(rnn_hidden_size, fc_hidden_size)\n",
    "        self.relu = nn.ReLU()\n",
    "        self.fc2 = nn.Linear(fc_hidden_size, 1)\n",
    "        self.sigmoid = nn.Sigmoid()\n",
    "    \n",
    "    def forward(self, text, lengths):\n",
    "        out = self.embedding(text)\n",
    "        # pad sententences with zero, lengths are the before padded\n",
    "        out = nn.utils.rnn.pack_padded_sequence(out, \n",
    "                                                lengths.cpu().numpy(), \n",
    "                                                enforce_sorted = False, \n",
    "                                                batch_first = True)\n",
    "        # output, hidden state\n",
    "        # hidden state shape: D*num_layers, batch size, out_dim\n",
    "        out, hidden = self.rnn(out)\n",
    "        out = hidden[-1,:,:] # -1;:,: means last layer, all batches, all hidden units\n",
    "        out = self.fc1(out)\n",
    "        out = self.relu(out)\n",
    "        out = self.fc2(out)\n",
    "        out = self.sigmoid(out)\n",
    "        return out"
   ]
  },
  {
   "cell_type": "code",
   "execution_count": 43,
   "metadata": {},
   "outputs": [
    {
     "data": {
      "text/plain": [
       "RNN(\n",
       "  (embedding): Embedding(180817, 10, padding_idx=0)\n",
       "  (rnn): RNN(10, 8, batch_first=True)\n",
       "  (fc1): Linear(in_features=8, out_features=4, bias=True)\n",
       "  (relu): ReLU()\n",
       "  (fc2): Linear(in_features=4, out_features=1, bias=True)\n",
       "  (sigmoid): Sigmoid()\n",
       ")"
      ]
     },
     "execution_count": 43,
     "metadata": {},
     "output_type": "execute_result"
    }
   ],
   "source": [
    "torch.manual_seed(SEED)\n",
    "vocab_size = len(vocab_review)\n",
    "embed_dim = 10\n",
    "rnn_hidden_size = 8\n",
    "fc_hidden_size = 4\n",
    "model_rnn = RNN(vocab_size, embed_dim, rnn_hidden_size, fc_hidden_size)\n",
    "model_rnn"
   ]
  },
  {
   "cell_type": "code",
   "execution_count": 44,
   "metadata": {},
   "outputs": [],
   "source": [
    "loss_fn = nn.BCELoss()\n",
    "optimizer = torch.optim.Adam(model_rnn.parameters(), lr=0.001)"
   ]
  },
  {
   "cell_type": "code",
   "execution_count": 45,
   "metadata": {},
   "outputs": [],
   "source": [
    "def acc(pred, y):\n",
    "    pred = torch.round(torch.sigmoid(pred))\n",
    "    correct = (pred == y).float()\n",
    "    acc = correct.sum() / len(correct)\n",
    "    return acc"
   ]
  },
  {
   "cell_type": "code",
   "execution_count": 46,
   "metadata": {},
   "outputs": [],
   "source": [
    "def train(model ,dataloader):\n",
    "    model.train()\n",
    "    total_acc, total_loss = 0., 0.\n",
    "    for batch_idx, (text_batch, label_batch, lengths) in enumerate(dataloader):\n",
    "        text_batch = text_batch.to(device)\n",
    "        label_batch = label_batch.to(device)\n",
    "        pred = model(text_batch, lengths)[:, 0] # only get the last output\n",
    "        loss = loss_fn(pred, label_batch.float()) # loss function\n",
    "        optimizer.zero_grad() # clear gradients\n",
    "        loss.backward() # backpropagation\n",
    "        optimizer.step() # update weights\n",
    "        total_acc += ((pred >= 0.5).float() == label_batch).float().sum().item()\n",
    "        total_loss += loss.item() * label_batch.size(0)\n",
    "    return total_acc / len(dataloader.dataset), total_loss / len(dataloader.dataset)\n",
    "\n",
    "def evaluate(model, dataloader):\n",
    "    model.eval() # \n",
    "    total_acc, total_loss = 0., 0.\n",
    "    with torch.no_grad(): # No need to backpropagation\n",
    "        for text_batch, label_batch, lengths in dataloader:\n",
    "            text_batch = text_batch.to(device)\n",
    "            label_batch = label_batch.to(device)\n",
    "            pred = model(text_batch, lengths)[:, 0]\n",
    "            loss = loss_fn(pred, label_batch.float())\n",
    "            total_acc += ((pred >= 0.5).float() == label_batch).float().sum().item()\n",
    "            total_loss += loss.item() * label_batch.size(0)\n",
    "    return total_acc / len(dataloader.dataset), total_loss / len(dataloader.dataset)"
   ]
  },
  {
   "cell_type": "code",
   "execution_count": 50,
   "metadata": {},
   "outputs": [
    {
     "name": "stdout",
     "output_type": "stream",
     "text": [
      "Model loaded\n"
     ]
    }
   ],
   "source": [
    "import os \n",
    "# If model is already trained, load it\n",
    "skip_training = True\n",
    "if os.path.isfile('model/rnn.pth'):\n",
    "    model_rnn.load_state_dict(torch.load('model/rnn.pth'))\n",
    "    model_rnn.to(device)\n",
    "    print('Model loaded')\n",
    "else:\n",
    "    print('Start training')\n",
    "    skip_training = False"
   ]
  },
  {
   "cell_type": "code",
   "execution_count": 51,
   "metadata": {},
   "outputs": [
    {
     "name": "stdout",
     "output_type": "stream",
     "text": [
      "Skip training\n"
     ]
    }
   ],
   "source": [
    "if not skip_training:\n",
    "    num_epochs = 5\n",
    "    torch.manual_seed(SEED)\n",
    "    loss_hist_train = [0] * num_epochs\n",
    "    accuracy_hist_train = [0] * num_epochs\n",
    "    loss_hist_valid = [0] * num_epochs\n",
    "    accuracy_hist_valid = [0] * num_epochs\n",
    "    for epoch in range(num_epochs):\n",
    "        model_rnn.to(device)\n",
    "        acc_train, loss_train = train(model_rnn, train_dl)\n",
    "        acc_valid, loss_valid = evaluate(model_rnn, valid_dl)\n",
    "        print(f'Epoch {epoch} accuracy: {acc_train:.4f}'\n",
    "            f' val_accuracy: {acc_valid:.4f}')\n",
    "        loss_hist_train[epoch] = loss_train\n",
    "        accuracy_hist_train[epoch] = acc_train\n",
    "        loss_hist_valid[epoch] = loss_valid\n",
    "        accuracy_hist_valid[epoch] = acc_valid\n",
    "    torch.save(model_rnn.state_dict(), 'model/rnn.pth')\n",
    "else:\n",
    "    print('Skip training')"
   ]
  },
  {
   "cell_type": "code",
   "execution_count": 53,
   "metadata": {},
   "outputs": [
    {
     "name": "stdout",
     "output_type": "stream",
     "text": [
      "There is no training history\n"
     ]
    }
   ],
   "source": [
    "if not skip_training:\n",
    "    my_dpi = 100\n",
    "    fig, ax = plt.subplots(nrows = 2, ncols = 1, figsize=(540/my_dpi, 720/my_dpi), dpi=my_dpi)\n",
    "    ax[0].plot(loss_hist_train, lw=2)\n",
    "    ax[0].plot(loss_hist_valid, lw=2)\n",
    "    ax[0].legend(['Train loss', 'Validation loss'], fontsize=12)\n",
    "    ax[0].set_xlabel('Epochs', size=12)\n",
    "    ax[1].plot(accuracy_hist_train, lw=2)\n",
    "    ax[1].plot(accuracy_hist_valid, lw=2)\n",
    "    ax[1].legend(['Train acc.', 'Validation acc.'], fontsize=12)\n",
    "    ax[1].set_xlabel('Epochs', size=12);\n",
    "    plt.tight_layout()\n",
    "    plt.savefig(f'model_train_history_rnn.png', dpi = my_dpi);\n",
    "    plt.show()\n",
    "else:\n",
    "    print('There is no training history')"
   ]
  },
  {
   "cell_type": "code",
   "execution_count": 54,
   "metadata": {},
   "outputs": [
    {
     "name": "stdout",
     "output_type": "stream",
     "text": [
      "test accuracy: 0.8621\n"
     ]
    }
   ],
   "source": [
    "# Test the model\n",
    "acc_test, loss_test = evaluate(model_rnn, test_dl)\n",
    "print(f'test accuracy: {acc_test:.4f}')"
   ]
  },
  {
   "cell_type": "code",
   "execution_count": 55,
   "metadata": {},
   "outputs": [
    {
     "name": "stdout",
     "output_type": "stream",
     "text": [
      "\n",
      "Review text: <unk> great\n",
      "True label = 1.0 , model prediction 0.9683519005775452\n",
      "\n",
      "Review text: <unk> version is really fun to play <unk>\n",
      "True label = 1.0 , model prediction 0.9320012927055359\n",
      "\n",
      "Review text: <unk> is very probably one of the best games ever to grace this world <unk> <unk> the <unk> years of experience I <unk> had with gaming <unk> I have played various titles such as <unk> <unk> <unk> <unk> <unk> <unk> and <unk> for the <unk> <unk> <unk> and I must admit this is an almost better experience than those two <unk> <unk> graphics are amazing for a game originally meant to be played on a <unk> calculator and the sound effects remind me of the good old days of the <unk> <unk> <unk> <unk> may say that the lip syncing is awful <unk> but I disagree <unk> <unk> is clearly intentional <unk> <unk> developers were trying to pass the message that the words that come out of your mouth are <unk> always what your heart wanted you to say <unk> <unk> example of a philosophical message passed by this game is the apparent censorship of every word you try to type in the chat <unk> by claiming they are <unk> offensive <unk> <unk> <unk> people may say this is due to bad coding <unk> but yet again <unk> they would be wrong <unk> <unk> developers are trying to pass the message that even if you think you are free <unk> you are always being surveilled and observed <unk> <unk> it is a call to <unk> <unk> which would be supported by the colour of <unk> <unk> black <unk> but <unk> nonetheless <unk> it is a very beautiful <unk> and true <unk> message <unk> <unk> have to use your imagination to completely understand the fine piece of art that this game is <unk> <unk> game does <unk> offer you an experience <unk> the game challenges you to find your own adventure while you read the advertisements that are on every loading screen <unk> It challenges you to use <unk> <unk> <unk> and question yourself <unk> would the common man react to this use of capital <unk> <unk> when you are faced with the option to use real money to make the game proceed faster <unk> I <unk> recommend this to anyone with a fine taste in art <unk> and I suspect that this game will <unk> in the future <unk> be displayed in a museum <unk> right next to the <unk> <unk> <unk> as they are both pieces of art of the finest quality <unk>\n",
      "True label = 1.0 , model prediction 0.9702569842338562\n",
      "\n",
      "Review text: <unk> the best game i have ever played\n",
      "True label = 1.0 , model prediction 0.9851265549659729\n",
      "\n",
      "Review text: <unk> game is giving me motion sickness purely by the way the screen moves when walking <unk> It also does <unk> work great with a touchpad <unk> ca <unk> drag the mouse and use buttons at the same time <unk> but I guess that <unk> more my fault for misplacing my usb mouse rather than the game <unk> fault <unk> <unk> <unk> <unk> obtaining a mouse and playing again I have completely changed my mind <unk> <unk> <unk> worth the motion sickness to play this game <unk> <unk> story really sucks you in and its beautifully made <unk>\n",
      "True label = 1.0 , model prediction 0.6994114518165588\n"
     ]
    }
   ],
   "source": [
    "model_rnn.eval()\n",
    "\n",
    "with torch.no_grad():\n",
    "    for x_batch, y_batch, lengths in test_dl:\n",
    "        break\n",
    "        \n",
    "x_batch = x_batch.to(device)\n",
    "pred = model_rnn(x_batch, lengths)[:, 0]\n",
    "\n",
    "for i in range(5):\n",
    "    print('\\nReview text:', ' '.join([vocab_review.get_itos()[j] for j in x_batch[i] if j != 0]))\n",
    "    print('True label =', y_batch[i].item(),', model prediction', pred[i].item())"
   ]
  },
  {
   "cell_type": "code",
   "execution_count": 56,
   "metadata": {},
   "outputs": [],
   "source": [
    "### Build a LSTM model\n",
    "class LSTM(nn.Module):\n",
    "    def __init__(self, vocab_size, embed_dim, lstm_hidden_size, fc_hidden_size):\n",
    "        super().__init__()\n",
    "        # sentence embedding\n",
    "        self.embedding = nn.Embedding(num_embeddings = vocab_size, \n",
    "                                      embedding_dim = embed_dim, \n",
    "                                      padding_idx = 0)\n",
    "        self.lstm = nn.LSTM(input_size = embed_dim, \n",
    "                           hidden_size = lstm_hidden_size, \n",
    "                           batch_first = True)\n",
    "        self.fc1 = nn.Linear(rnn_hidden_size, fc_hidden_size)\n",
    "        self.relu = nn.ReLU()\n",
    "        self.fc2 = nn.Linear(fc_hidden_size, 1)\n",
    "        self.sigmoid = nn.Sigmoid()\n",
    "    \n",
    "    def forward(self, text, lengths):\n",
    "        out = self.embedding(text)\n",
    "        # pad sententences with zero, lengths are the before padded\n",
    "        out = nn.utils.rnn.pack_padded_sequence(out, \n",
    "                                                lengths.cpu().numpy(), \n",
    "                                                enforce_sorted = False, \n",
    "                                                batch_first = True)\n",
    "        # output, hidden state\n",
    "        # hidden state shape: D*num_layers, batch size, out_dim\n",
    "        out, (hidden, cell) = self.lstm(out) \n",
    "        out = hidden[-1,:,:]\n",
    "        out = self.fc1(out)\n",
    "        out = self.relu(out)\n",
    "        out = self.fc2(out)\n",
    "        out = self.sigmoid(out)\n",
    "        return out"
   ]
  },
  {
   "cell_type": "code",
   "execution_count": 57,
   "metadata": {},
   "outputs": [
    {
     "data": {
      "text/plain": [
       "LSTM(\n",
       "  (embedding): Embedding(180817, 10, padding_idx=0)\n",
       "  (lstm): LSTM(10, 8, batch_first=True)\n",
       "  (fc1): Linear(in_features=8, out_features=4, bias=True)\n",
       "  (relu): ReLU()\n",
       "  (fc2): Linear(in_features=4, out_features=1, bias=True)\n",
       "  (sigmoid): Sigmoid()\n",
       ")"
      ]
     },
     "execution_count": 57,
     "metadata": {},
     "output_type": "execute_result"
    }
   ],
   "source": [
    "torch.manual_seed(SEED)\n",
    "vocab_size = len(vocab_review)\n",
    "embed_dim = 10\n",
    "lstm_hidden_size = 8\n",
    "fc_hidden_size = 4\n",
    "model_lstm = LSTM(vocab_size, embed_dim, lstm_hidden_size, fc_hidden_size)\n",
    "model_lstm"
   ]
  },
  {
   "cell_type": "code",
   "execution_count": 58,
   "metadata": {},
   "outputs": [],
   "source": [
    "loss_fn = nn.BCELoss()\n",
    "optimizer = torch.optim.Adam(model_lstm.parameters(), lr = 0.001)"
   ]
  },
  {
   "cell_type": "code",
   "execution_count": 60,
   "metadata": {},
   "outputs": [
    {
     "name": "stdout",
     "output_type": "stream",
     "text": [
      "Start training\n"
     ]
    }
   ],
   "source": [
    "import os \n",
    "# If model is already trained, load it\n",
    "skip_training = True\n",
    "if os.path.isfile('model/lstm.pth'):\n",
    "    model_lstm.load_state_dict(torch.load('model/lstm.pth'))\n",
    "    model_lstm.to(device)\n",
    "    print('Model loaded')\n",
    "else:\n",
    "    print('Start training')\n",
    "    skip_training = False"
   ]
  },
  {
   "cell_type": "code",
   "execution_count": 62,
   "metadata": {},
   "outputs": [
    {
     "name": "stdout",
     "output_type": "stream",
     "text": [
      "Epoch 0 accuracy: 0.8255 val_accuracy: 0.8198\n",
      "Epoch 1 accuracy: 0.8526 val_accuracy: 0.8615\n",
      "Epoch 2 accuracy: 0.8803 val_accuracy: 0.8813\n",
      "Epoch 3 accuracy: 0.8919 val_accuracy: 0.8863\n",
      "Epoch 4 accuracy: 0.8989 val_accuracy: 0.8810\n"
     ]
    }
   ],
   "source": [
    "if not skip_training:\n",
    "    num_epochs = 5\n",
    "    torch.manual_seed(SEED)\n",
    "    loss_hist_train = [0] * num_epochs\n",
    "    accuracy_hist_train = [0] * num_epochs\n",
    "    loss_hist_valid = [0] * num_epochs\n",
    "    accuracy_hist_valid = [0] * num_epochs\n",
    "    for epoch in range(num_epochs):\n",
    "        model_lstm.to(device)\n",
    "        acc_train, loss_train = train(model_lstm, train_dl)\n",
    "        acc_valid, loss_valid = evaluate(model_lstm, valid_dl)\n",
    "        print(f'Epoch {epoch} accuracy: {acc_train:.4f}'\n",
    "            f' val_accuracy: {acc_valid:.4f}')\n",
    "        loss_hist_train[epoch] = loss_train\n",
    "        accuracy_hist_train[epoch] = acc_train\n",
    "        loss_hist_valid[epoch] = loss_valid\n",
    "        accuracy_hist_valid[epoch] = acc_valid\n",
    "    torch.save(model_lstm.state_dict(), 'model/lstm.pth')\n",
    "else:\n",
    "    print('Skip training')"
   ]
  },
  {
   "cell_type": "code",
   "execution_count": 63,
   "metadata": {},
   "outputs": [
    {
     "data": {
      "image/png": "[encoded data removed]",
      "text/plain": [
       "<Figure size 540x720 with 2 Axes>"
      ]
     },
     "metadata": {},
     "output_type": "display_data"
    }
   ],
   "source": [
    "if not skip_training:\n",
    "    my_dpi = 100\n",
    "    fig, ax = plt.subplots(nrows = 2, ncols = 1, figsize=(540/my_dpi, 720/my_dpi), dpi=my_dpi)\n",
    "    ax[0].plot(loss_hist_train, lw=2)\n",
    "    ax[0].plot(loss_hist_valid, lw=2)\n",
    "    ax[0].legend(['Train loss', 'Validation loss'], fontsize=12)\n",
    "    ax[0].set_xlabel('Epochs', size=12)\n",
    "    ax[1].plot(accuracy_hist_train, lw=2)\n",
    "    ax[1].plot(accuracy_hist_valid, lw=2)\n",
    "    ax[1].legend(['Train acc.', 'Validation acc.'], fontsize=12)\n",
    "    ax[1].set_xlabel('Epochs', size=12);\n",
    "    plt.tight_layout()\n",
    "    plt.savefig(f'model_train_history_lstm.png', dpi = my_dpi);\n",
    "    plt.show()\n",
    "else:\n",
    "    print('There is no training history')"
   ]
  },
  {
   "cell_type": "code",
   "execution_count": null,
   "metadata": {},
   "outputs": [],
   "source": [
    "model_lstm.eval()\n",
    "\n",
    "with torch.no_grad():\n",
    "    for x_batch, y_batch, lengths in test_dl:\n",
    "        break\n",
    "        \n",
    "x_batch = x_batch.to(device)\n",
    "pred = model_lstm(x_batch, lengths)[:, 0]\n",
    "\n",
    "for i in range(5):\n",
    "    print('\\nReview text:', ' '.join([vocab_review.get_itos()[j] for j in x_batch[i] if j != 0]))\n",
    "    print('True label =', y_batch[i].item(),', model prediction', pred[i].item())"
   ]
  }
 ],
 "metadata": {
  "kernelspec": {
   "display_name": "Python 3",
   "language": "python",
   "name": "python3"
  },
  "language_info": {
   "codemirror_mode": {
    "name": "ipython",
    "version": 3
   },
   "file_extension": ".py",
   "mimetype": "text/x-python",
   "name": "python",
   "nbconvert_exporter": "python",
   "pygments_lexer": "ipython3",
   "version": "3.10.7"
  }
 },
 "nbformat": 4,
 "nbformat_minor": 2
}
